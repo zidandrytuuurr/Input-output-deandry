{
 "cells": [
  {
   "cell_type": "code",
   "execution_count": 1,
   "id": "0da64b14",
   "metadata": {},
   "outputs": [
    {
     "name": "stdout",
     "output_type": "stream",
     "text": [
      "Isikan bilangan 13\n",
      "Isikan bilangan 25\n",
      "Hasil  3 + 5 = 8\n"
     ]
    }
   ],
   "source": [
    "bil1 = input('Isikan bilangan 1')\n",
    "bil2 = input('Isikan bilangan 2')\n",
    "hasil = int(bil1) + int(bil2)\n",
    "print(\"Hasil \", bil1, \"+\", bil2,\"=\",hasil)"
   ]
  },
  {
   "cell_type": "code",
   "execution_count": 2,
   "id": "29b9bb46",
   "metadata": {},
   "outputs": [
    {
     "name": "stdout",
     "output_type": "stream",
     "text": [
      "A\n",
      "B\n",
      "C\n",
      "D^_^"
     ]
    }
   ],
   "source": [
    "print(\"A\", \"B\", \"C\", \"D\", sep='\\n', end=\"^_^\")"
   ]
  },
  {
   "cell_type": "code",
   "execution_count": 3,
   "id": "4f9324e6",
   "metadata": {},
   "outputs": [
    {
     "name": "stdout",
     "output_type": "stream",
     "text": [
      "Hasil dari 8 modulus 10 = 8\n"
     ]
    }
   ],
   "source": [
    "num_1 = 8\n",
    "num_2 = 10\n",
    "\n",
    "# Hasil dari 8 modulus 10 = 8\n",
    "#str.format()\n",
    "\n",
    "print('Hasil dari {} modulus {} = {}'.format(num_1,num_2,num_1%num_2))"
   ]
  },
  {
   "cell_type": "code",
   "execution_count": 5,
   "id": "97ef4d9e",
   "metadata": {},
   "outputs": [
    {
     "name": "stdout",
     "output_type": "stream",
     "text": [
      "Nama anda Darmawan Rudi Hartono\n"
     ]
    }
   ],
   "source": [
    "fname = \"Rudi\"\n",
    "mname = \"Hartono\"\n",
    "iname = \"Darmawan\"\n",
    "\n",
    "print('Nama anda {2} {0} {1}'.format(fname,mname,iname))"
   ]
  },
  {
   "cell_type": "code",
   "execution_count": 7,
   "id": "ef244d92",
   "metadata": {},
   "outputs": [
    {
     "name": "stdout",
     "output_type": "stream",
     "text": [
      "Nama anda Andri, nilai anda 70\n"
     ]
    }
   ],
   "source": [
    "print('Nama anda {nama}, nilai anda {nilai}'.format(nama='Andri',nilai=70))"
   ]
  },
  {
   "cell_type": "code",
   "execution_count": 9,
   "id": "55dd9ed6",
   "metadata": {},
   "outputs": [
    {
     "name": "stdout",
     "output_type": "stream",
     "text": [
      "karakter pertama :  U\n",
      "karakter terakhir:  a\n",
      "Universitas\n",
      "Putra\n",
      "Putra\n",
      "artuP asuN satisrevinU\n"
     ]
    }
   ],
   "source": [
    "univ = \"Universitas Nusa Putra\"\n",
    "print(\"karakter pertama : \",univ[0])\n",
    "print(\"karakter terakhir: \",univ[-1])\n",
    "#Universitas\n",
    "print(univ[0:11])\n",
    "print(univ[-5:])\n",
    "print(univ[17:])\n",
    "print(univ[::-1])"
   ]
  },
  {
   "cell_type": "code",
   "execution_count": 10,
   "id": "90893fb2",
   "metadata": {},
   "outputs": [
    {
     "name": "stdout",
     "output_type": "stream",
     "text": [
      "Nama saya Rudi Andri\n",
      " Hasil penjumlahan 100 + 20 = 120\n"
     ]
    }
   ],
   "source": [
    "f_name ='Rudi'\n",
    "l_name ='Andri'\n",
    "\n",
    "print(f'Nama saya {f_name} {l_name}')\n",
    "first = 100\n",
    "second = 20\n",
    "print(f' Hasil penjumlahan {first} + {second} = {first+second}')"
   ]
  },
  {
   "cell_type": "code",
   "execution_count": null,
   "id": "63b157c5",
   "metadata": {},
   "outputs": [
    {
     "name": "stdout",
     "output_type": "stream",
     "text": [
      "['Andri', 'Budi', 'Cika']\n",
      "['Andri', 'budi', 'Cika']\n",
      "Andri@budi@Cika\n",
      "Masukkan tanggal lahir : 10\n"
     ]
    }
   ],
   "source": [
    "nama = \"Andri,budi,Cika\"\n",
    "nama2 = \"Andri Budi Cika\"\n",
    "#split -> memisahkan string kedalam kumpulan karakter tertentu\n",
    "print(nama2.split())\n",
    "print(nama.split(','))\n",
    "\n",
    "#join ->menggabungkan string kedalam kumpulan karakter\n",
    "print('@'.join(nama.split(',')))\n",
    "#input tgl lahir -> 18/oktober/2010\n",
    "#input nama -> Bill Gate\n",
    "#Output;\n",
    "#Tgl : 18, Bulan:Oktober, Tahun :2010\n",
    "#Nama Inisial : BG\n",
    "\n",
    "tgl = input (\"Masukkan tanggal lahir : \")\n",
    "nama = input(\"Masukkan nama : \")\n",
    "pemisah = tgl.split(\"/\")\n",
    "print(\"Output ;\")\n",
    "print(f\"Tgl : {pemisah[0]}, Bulan:{pemisah[1]}, Tahun :{pemisah[2]}\")\n",
    "pemisah2 = nama.split()\n",
    "nama_pertama = pemisah2[0]\n",
    "nama_terakhir = pemisah2[1]\n",
    "print(f\"Nama inisial : {nama_pertama[0]+nama_terakhir[0]}\")"
   ]
  }
 ],
 "metadata": {
  "kernelspec": {
   "display_name": "Python 3 (ipykernel)",
   "language": "python",
   "name": "python3"
  },
  "language_info": {
   "codemirror_mode": {
    "name": "ipython",
    "version": 3
   },
   "file_extension": ".py",
   "mimetype": "text/x-python",
   "name": "python",
   "nbconvert_exporter": "python",
   "pygments_lexer": "ipython3",
   "version": "3.9.12"
  }
 },
 "nbformat": 4,
 "nbformat_minor": 5
}
